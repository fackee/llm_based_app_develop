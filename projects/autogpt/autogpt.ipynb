{
 "cells": [
  {
   "cell_type": "code",
   "execution_count": 12,
   "metadata": {},
   "outputs": [
    {
     "name": "stdout",
     "output_type": "stream",
     "text": [
      "Requirement already satisfied: duckduckgo_search in c:\\users\\blcke\\appdata\\local\\packages\\pythonsoftwarefoundation.python.3.10_qbz5n2kfra8p0\\localcache\\local-packages\\python310\\site-packages (4.3)\n",
      "Requirement already satisfied: docstring-inheritance>=2.1.2 in c:\\users\\blcke\\appdata\\local\\packages\\pythonsoftwarefoundation.python.3.10_qbz5n2kfra8p0\\localcache\\local-packages\\python310\\site-packages (from duckduckgo_search) (2.1.2)\n",
      "Requirement already satisfied: lxml>=4.9.3 in c:\\users\\blcke\\appdata\\local\\packages\\pythonsoftwarefoundation.python.3.10_qbz5n2kfra8p0\\localcache\\local-packages\\python310\\site-packages (from duckduckgo_search) (4.9.3)\n",
      "Requirement already satisfied: click>=8.1.7 in c:\\users\\blcke\\appdata\\local\\packages\\pythonsoftwarefoundation.python.3.10_qbz5n2kfra8p0\\localcache\\local-packages\\python310\\site-packages (from duckduckgo_search) (8.1.7)\n",
      "Requirement already satisfied: curl-cffi>=0.6.0b7 in c:\\users\\blcke\\appdata\\local\\packages\\pythonsoftwarefoundation.python.3.10_qbz5n2kfra8p0\\localcache\\local-packages\\python310\\site-packages (from duckduckgo_search) (0.6.0b7)\n",
      "Requirement already satisfied: colorama in c:\\users\\blcke\\appdata\\local\\packages\\pythonsoftwarefoundation.python.3.10_qbz5n2kfra8p0\\localcache\\local-packages\\python310\\site-packages (from click>=8.1.7->duckduckgo_search) (0.4.6)\n",
      "Requirement already satisfied: certifi in c:\\users\\blcke\\appdata\\local\\packages\\pythonsoftwarefoundation.python.3.10_qbz5n2kfra8p0\\localcache\\local-packages\\python310\\site-packages (from curl-cffi>=0.6.0b7->duckduckgo_search) (2023.7.22)\n",
      "Requirement already satisfied: cffi>=1.12.0 in c:\\users\\blcke\\appdata\\local\\packages\\pythonsoftwarefoundation.python.3.10_qbz5n2kfra8p0\\localcache\\local-packages\\python310\\site-packages (from curl-cffi>=0.6.0b7->duckduckgo_search) (1.16.0)\n",
      "Requirement already satisfied: pycparser in c:\\users\\blcke\\appdata\\local\\packages\\pythonsoftwarefoundation.python.3.10_qbz5n2kfra8p0\\localcache\\local-packages\\python310\\site-packages (from cffi>=1.12.0->curl-cffi>=0.6.0b7->duckduckgo_search) (2.21)\n"
     ]
    },
    {
     "name": "stderr",
     "output_type": "stream",
     "text": [
      "\n",
      "[notice] A new release of pip is available: 23.0.1 -> 23.3.2\n",
      "[notice] To update, run: C:\\Users\\blcke\\AppData\\Local\\Microsoft\\WindowsApps\\PythonSoftwareFoundation.Python.3.10_qbz5n2kfra8p0\\python.exe -m pip install --upgrade pip\n"
     ]
    }
   ],
   "source": [
    "!pip3 install duckduckgo_search"
   ]
  },
  {
   "cell_type": "code",
   "execution_count": 13,
   "metadata": {},
   "outputs": [],
   "source": [
    "import json\n",
    "def safe_google_results(results: str | list) -> str:\n",
    "    \"\"\"\n",
    "        Return the results of a Google search in a safe format.\n",
    "\n",
    "    Args:\n",
    "        results (str | list): The search results.\n",
    "\n",
    "    Returns:\n",
    "        str: The results of the search.\n",
    "    \"\"\"\n",
    "    if isinstance(results, list):\n",
    "        safe_message = json.dumps(\n",
    "            [result.encode(\"utf-8\", \"ignore\").decode(\"utf-8\") for result in results]\n",
    "        )\n",
    "    else:\n",
    "        safe_message = results.encode(\"utf-8\", \"ignore\").decode(\"utf-8\")\n",
    "    return safe_message"
   ]
  },
  {
   "cell_type": "code",
   "execution_count": 14,
   "metadata": {},
   "outputs": [],
   "source": [
    "\n",
    "import time\n",
    "from itertools import islice\n",
    "\n",
    "from duckduckgo_search import DDGS\n",
    "def web_search(query: str, num_results: int = 8) -> str:\n",
    "    \"\"\"Return the results of a Google search\n",
    "\n",
    "    Args:\n",
    "        query (str): The search query.\n",
    "        num_results (int): The number of results to return.\n",
    "\n",
    "    Returns:\n",
    "        str: The results of the search.\n",
    "    \"\"\"\n",
    "    search_results = []\n",
    "    attempts = 0\n",
    "\n",
    "    while attempts < 3:\n",
    "        if not query:\n",
    "            return json.dumps(search_results)\n",
    "        with DDGS(timeout=20) as ddgs:\n",
    "            results = ddgs.text(query)\n",
    "            search_results = list(islice(results, num_results))\n",
    "\n",
    "            if search_results:\n",
    "                break\n",
    "\n",
    "            time.sleep(1)\n",
    "            attempts += 1\n",
    "\n",
    "    search_results = [\n",
    "        {\n",
    "            \"title\": r[\"title\"],\n",
    "            \"url\": r[\"href\"],\n",
    "            **({\"exerpt\": r[\"body\"]} if r.get(\"body\") else {}),\n",
    "        }\n",
    "        for r in search_results\n",
    "    ]\n",
    "\n",
    "    results = (\n",
    "        \"## Search results\\n\"\n",
    "        # \"Read these results carefully.\"\n",
    "        # \" Extract the information you need for your task from the list of results\"\n",
    "        # \" if possible. Otherwise, choose a webpage from the list to read entirely.\"\n",
    "        # \"\\n\\n\"\n",
    "    ) + \"\\n\\n\".join(\n",
    "        f\"### \\\"{r['title']}\\\"\\n\"\n",
    "        f\"**URL:** {r['url']}  \\n\"\n",
    "        \"**Excerpt:** \" + (f'\"{exerpt}\"' if (exerpt := r.get(\"exerpt\")) else \"N/A\")\n",
    "        for r in search_results\n",
    "    )\n",
    "    return safe_google_results(results)"
   ]
  },
  {
   "cell_type": "code",
   "execution_count": 25,
   "metadata": {},
   "outputs": [
    {
     "name": "stdout",
     "output_type": "stream",
     "text": [
      "[{'title': 'What is an AI agent? | Zapier', 'href': 'https://zapier.com/blog/ai-agent/', 'body': \"What are AI agents? Right now, interacting with AI follows a familiar ritual. You enter a prompt, and the AI model calculates a response based on the input. Every time you want a new output, you have to provide a prompt. There's always a human to start the process. AI agents work in a different way. They're designed to think and act independently.\"}, {'title': 'AI Agents - Easy With AI', 'href': 'https://easywithai.com/ai-agents/', 'body': 'AI Agents BabyAGI BabyAGI is an AI-powered agent that uses OpenAI and vector databases like Chroma and Weaviate to perform tasks. It simplifies task creation, prioritization, and execution SuperAGI SuperAGI is an open-source platform that enables anyone to build AI agents and automate workflows.'}, {'title': 'What is an AI Agent?', 'href': 'https://oneai.com/learn/ai-agent', 'body': 'Simon Harris · Aug 3, 2023 · 14 min read time AI GPT LLM ML AI Agent Outline What are AI Agents? Understanding AI Agents Pulling Back the Curtains: How AI Agents Work AI Agents: The Autonomous Employees of the Future? The Stars of the AI Agent Show Conclusion What are AI Agents?'}, {'title': 'AI Agents And The Era Of The Intelligent Interface - Forbes', 'href': 'https://www.forbes.com/sites/davidarmano/2023/12/07/ai-agents-and-the-era-of-the-intelligent-interface/', 'body': 'Less than a month ago, Bill Gates penned a broader perspective on what the industry commonly relates to as \"AI Agents.\". Simply put, an AI Agent is a system, software or application that ...'}, {'title': 'What is an AI Agent? 5 Types of Intelligent Agents Explained', 'href': 'https://blog.enterprisedna.co/what-is-an-ai-agent/', 'body': 'AI agents are software programs or systems that are designed to perceive their environment, make decisions, and take actions autonomously to achieve specific goals. These AI systems can be used in various applications such as chatbots, robotics, personal assistants, and more. Key Aspects of AI Agents'}]\n"
     ]
    }
   ],
   "source": [
    "from duckduckgo_search import DDGS,AsyncDDGS\n",
    "\n",
    "async with AsyncDDGS(proxies={\"https\": \"http://127.0.0.1:7088\",\"http\": \"http://127.0.0.1:7088\"}) as ddgs:\n",
    "    results = [r async for r in ddgs.text(\"AI Aagent\", max_results=5)]\n",
    "    print(results)"
   ]
  }
 ],
 "metadata": {
  "kernelspec": {
   "display_name": "Python 3",
   "language": "python",
   "name": "python3"
  },
  "language_info": {
   "codemirror_mode": {
    "name": "ipython",
    "version": 3
   },
   "file_extension": ".py",
   "mimetype": "text/x-python",
   "name": "python",
   "nbconvert_exporter": "python",
   "pygments_lexer": "ipython3",
   "version": "3.10.11"
  }
 },
 "nbformat": 4,
 "nbformat_minor": 2
}
